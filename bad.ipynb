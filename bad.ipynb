{
 "cells": [
  {
   "cell_type": "code",
   "execution_count": 1,
   "metadata": {},
   "outputs": [],
   "source": [
    "import matplotlib.pyplot as plt\n",
    "import cv2\n",
    "image = cv2.imread(\"road_dil_grey.png\", cv2.IMREAD_GRAYSCALE)\n",
    "graph = {}\n",
    "\n",
    "def get_pixel_path(start, end):\n",
    "    path = []\n",
    "    x1, y1 = start\n",
    "    x2, y2 = end\n",
    "    steep = abs(y2 - y1) > abs(x2 - x1)\n",
    "    if steep:\n",
    "        x1, y1 = y1, x1\n",
    "        x2, y2 = y2, x2\n",
    "    if x1 > x2:\n",
    "        x1, x2 = x2, x1\n",
    "        y1, y2 = y2, y1\n",
    "    dx = x2 - x1\n",
    "    dy = abs(y2 - y1)\n",
    "    error = dx / 2.0\n",
    "    ystep = 1 if y1 < y2 else -1\n",
    "    y = y1\n",
    "    for x in range(x1, x2 + 1):\n",
    "        if steep:\n",
    "            path.append((y, x))\n",
    "        else:\n",
    "            path.append((x, y))\n",
    "        error -= dy\n",
    "        if error < 0:\n",
    "            y += ystep\n",
    "            error += dx\n",
    "    return path\n",
    "\n",
    "height, width = image.shape\n",
    "for y in range(height):\n",
    "    for x in range(width):\n",
    "        if image[y, x] == 255:\n",
    "            node_id = (x, y)\n",
    "            graph[node_id] = []\n",
    "            for dx, dy in [(1, 0), (-1, 0), (0, 1), (0, -1)]:\n",
    "                if 0 <= x + dx < width and 0 <= y + dy < height:\n",
    "                    if image[y + dy, x + dx] == 255:\n",
    "                        neighbor = (x + dx, y + dy)\n",
    "                        path = get_pixel_path(node_id, neighbor)\n",
    "                        graph[node_id].append(neighbor)\n",
    "\n",
    "for node, neighbors in graph.items():\n",
    "    for neighbor in neighbors:\n",
    "        x1, y1 = node\n",
    "        x2, y2 = neighbor\n",
    "        plt.plot([x1, x2], [y1, y2], 'w')\n",
    "plt.axis('equal')\n",
    "plt.show()\n"
   ]
  }
 ],
 "metadata": {
  "kernelspec": {
   "display_name": "Python 3",
   "language": "python",
   "name": "python3"
  },
  "language_info": {
   "codemirror_mode": {
    "name": "ipython",
    "version": 3
   },
   "file_extension": ".py",
   "mimetype": "text/x-python",
   "name": "python",
   "nbconvert_exporter": "python",
   "pygments_lexer": "ipython3",
   "version": "3.10.8 (main, Oct 11 2022, 11:35:05) [GCC 11.2.0]"
  },
  "orig_nbformat": 4,
  "vscode": {
   "interpreter": {
    "hash": "7d6993cb2f9ce9a59d5d7380609d9cb5192a9dedd2735a011418ad9e827eb538"
   }
  }
 },
 "nbformat": 4,
 "nbformat_minor": 2
}

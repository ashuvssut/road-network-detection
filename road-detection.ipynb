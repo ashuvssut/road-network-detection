{
 "cells": [
  {
   "cell_type": "code",
   "execution_count": null,
   "metadata": {},
   "outputs": [],
   "source": [
    "# write a jupyter notebook to do image processing on a google maps roadmap snapshot to detect the road network and give nodes and edges that make up the complete road network\n",
    "#\n",
    "# Steps to do the image processing task must look something like:\n",
    "# 1. load the thresholded binary image google maps roadmap snapshot from file system in which the road network is represented by white pixels and the background is represented by black pixels\n",
    "import cv2\n",
    "import numpy as np\n",
    "import matplotlib.pyplot as plt\n",
    "import networkx as nx\n",
    "\n",
    "# Load the binary image\n",
    "img = cv2.imread(\"road_dil_grey.png\", 0)\n",
    "# plt.imshow(img, cmap=\"gray\")\n",
    "# plt.show()\n",
    "\n",
    "# Create a list to store the graph nodes\n",
    "graph_nodes = []\n",
    "\n",
    "# Loop through each row and column of the image and place a node at each white pixel\n",
    "for i in range(0, img.shape[0], 2):\n",
    "    for j in range(0, img.shape[1], 2):\n",
    "        if img[i][j] == 255:\n",
    "            graph_nodes.append((j, img.shape[0] - i - 1))\n",
    "\n",
    "# Create a graph from the list of nodes\n",
    "G = nx.Graph()\n",
    "G.add_nodes_from(range(len(graph_nodes)))\n",
    "\n",
    "# Plot the graph nodes and edges\n",
    "plt.figure(figsize=(10, 10))\n",
    "nx.draw_networkx_nodes(G, graph_nodes, node_size=1, node_color=\"blue\")\n",
    "plt.axis(\"off\")\n",
    "\n",
    "plt.show()\n",
    "\n",
    "\n"
   ]
  },
  {
   "attachments": {},
   "cell_type": "markdown",
   "metadata": {},
   "source": []
  },
  {
   "cell_type": "code",
   "execution_count": null,
   "metadata": {},
   "outputs": [],
   "source": [
    "import cv2\n",
    "import numpy as np\n",
    "import matplotlib.pyplot as plt\n",
    "\n",
    "# Load binary image\n",
    "img = cv2.imread(\"road_dil_grey.png\", cv2.IMREAD_GRAYSCALE)\n",
    "\n",
    "# Get the white pixel coordinates with a spacing of 2 pixels\n",
    "points = np.column_stack(np.where(img == 255))[::2]\n",
    "\n",
    "# Plot the blue dots on the original image\n",
    "img = cv2.cvtColor(img, cv2.COLOR_GRAY2BGR)\n",
    "for point in points:\n",
    "    img = cv2.circle(img, (point[1], point[0]), 5, (255, 0, 0), -1)\n",
    "\n",
    "# Show the result\n",
    "plt.imshow(img)\n",
    "plt.show()\n"
   ]
  }
 ],
 "metadata": {
  "kernelspec": {
   "display_name": "Python 3",
   "language": "python",
   "name": "python3"
  },
  "language_info": {
   "codemirror_mode": {
    "name": "ipython",
    "version": 3
   },
   "file_extension": ".py",
   "mimetype": "text/x-python",
   "name": "python",
   "nbconvert_exporter": "python",
   "pygments_lexer": "ipython3",
   "version": "3.10.8"
  },
  "orig_nbformat": 4,
  "vscode": {
   "interpreter": {
    "hash": "7d6993cb2f9ce9a59d5d7380609d9cb5192a9dedd2735a011418ad9e827eb538"
   }
  }
 },
 "nbformat": 4,
 "nbformat_minor": 2
}

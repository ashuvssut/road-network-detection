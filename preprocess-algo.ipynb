{
 "cells": [
  {
   "cell_type": "code",
   "execution_count": null,
   "metadata": {},
   "outputs": [],
   "source": [
    "import cv2\n",
    "import numpy as np\n",
    "\n",
    "def imshow(img):\n",
    "  randomInt = str(np.random.randint(0,1000))\n",
    "  cv2.imshow('image'+randomInt,img)\n",
    "  cv2.waitKey(60000)\n",
    "def imshowf(img):\n",
    "  randomInt = str(np.random.randint(0, 1000))\n",
    "  cv2.imshow('image'+randomInt, img)\n",
    "  cv2.waitKey(60000)\n",
    "  cv2.destroyAllWindows()\n"
   ]
  },
  {
   "cell_type": "code",
   "execution_count": null,
   "metadata": {},
   "outputs": [],
   "source": [
    "# Import the necessary libraries\n",
    "import cv2\n",
    "import numpy as np\n",
    "import matplotlib.pyplot as plt\n",
    "\n",
    "# Load the Google Maps screenshot\n",
    "image = cv2.imread(\"./road.png\")\n",
    "\n",
    "# detect highway roads of yellowish color and display them in white color\n",
    "yellow = np.uint8([[[255,255,0 ]]])\n",
    "hsv_yellow = cv2.cvtColor(yellow,cv2.COLOR_BGR2HSV)\n",
    "lower_yellow = np.array([hsv_yellow[0][0][0]+55,100,100])\n",
    "upper_yellow = np.array([hsv_yellow[0][0][0]+60,255,255])\n",
    "mask = cv2.inRange(image, lower_yellow, upper_yellow)\n",
    "res = cv2.bitwise_and(image,image, mask=mask)\n",
    "res_gray = cv2.cvtColor(res, cv2.COLOR_BGR2GRAY)  # convert to binary image\n",
    "# using the res_gray image, replace the yellowish color with white color\n",
    "image[res_gray>0] = (255,255,255)\n",
    "\n",
    "# Threshold the image to get the roads(ROI) apart from non-white areas (like water bodies and other non-road areas)\n",
    "gray = cv2.cvtColor(image, cv2.COLOR_BGR2GRAY)\n",
    "ret,thresh = cv2.threshold(gray,250,255,cv2.THRESH_BINARY)\n",
    "\n",
    "# display the image\n",
    "plt.imshow(thresh, cmap='gray')\n",
    "\n",
    "# remove not long enough lines (dots of small area)\n",
    "contours, hierarchy = cv2.findContours(thresh, cv2.RETR_TREE, cv2.CHAIN_APPROX_SIMPLE)\n",
    "for cnt in contours:\n",
    "    if cv2.contourArea(cnt) < 5:\n",
    "        cv2.drawContours(thresh, [cnt], 0, (0,0,0), -1)\n",
    "\n",
    "# save the grey image\n",
    "cv2.imwrite('road_grey.png', thresh)\n",
    "\n",
    "# make the lines thicker\n",
    "kernel = np.ones((6,6),np.uint8)\n",
    "dilation = cv2.dilate(thresh,kernel,iterations = 1)\n",
    "\n",
    "# display the image\n",
    "plt.imshow(dilation, cmap='gray')\n",
    "\n",
    "# save the grey dilated image\n",
    "cv2.imwrite('road_dil_grey.png', dilation)"
   ]
  }
 ],
 "metadata": {
  "kernelspec": {
   "display_name": "Python 3",
   "language": "python",
   "name": "python3"
  },
  "language_info": {
   "codemirror_mode": {
    "name": "ipython",
    "version": 3
   },
   "file_extension": ".py",
   "mimetype": "text/x-python",
   "name": "python",
   "nbconvert_exporter": "python",
   "pygments_lexer": "ipython3",
   "version": "3.10.8 (main, Oct 11 2022, 11:35:05) [GCC 11.2.0]"
  },
  "orig_nbformat": 4,
  "vscode": {
   "interpreter": {
    "hash": "7d6993cb2f9ce9a59d5d7380609d9cb5192a9dedd2735a011418ad9e827eb538"
   }
  }
 },
 "nbformat": 4,
 "nbformat_minor": 2
}

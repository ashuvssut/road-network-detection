{
 "cells": [
  {
   "cell_type": "code",
   "execution_count": null,
   "metadata": {},
   "outputs": [],
   "source": [
    "# Import the necessary libraries\n",
    "import cv2\n",
    "import numpy as np\n",
    "import matplotlib.pyplot as plt\n",
    "\n",
    "# Load the Google Maps screenshot\n",
    "image = cv2.imread(\"./0-rad.png\")\n",
    "\n",
    "# detect highway roads of yellowish color and display them in white color\n",
    "yellow = np.uint8([[[255,255,0 ]]])\n",
    "hsv_yellow = cv2.cvtColor(yellow,cv2.COLOR_BGR2HSV)\n",
    "lower_yellow = np.array([hsv_yellow[0][0][0]+55,100,100])\n",
    "upper_yellow = np.array([hsv_yellow[0][0][0]+60,255,255])\n",
    "mask = cv2.inRange(image, lower_yellow, upper_yellow)\n",
    "cv2.imwrite('1-impure-mask.png', mask)\n",
    "\n",
    "# remove not long enough lines (dots of small area)\n",
    "contours, hierarchy = cv2.findContours(\n",
    "    mask, cv2.RETR_TREE, cv2.CHAIN_APPROX_SIMPLE)\n",
    "for cnt in contours:\n",
    "    if cv2.contourArea(cnt) < 5:\n",
    "        cv2.drawContours(mask, [cnt], 0, (0, 0, 0), -1)\n",
    "cv2.imwrite('1.1-mask.png', mask)\n",
    "\n",
    "# using the res_gray image, replace the yellowish color with white color\n",
    "image[mask > 0] = (255, 255, 255)\n",
    "cv2.imwrite('1.2-detect_yellow.png', image)\n",
    "# Threshold the image to get the roads(ROI) apart from non-white areas (like water bodies and other non-road areas)\n",
    "gray = cv2.cvtColor(image, cv2.COLOR_BGR2GRAY)\n",
    "cv2.imwrite('2.1-road_grey.png', gray)\n",
    "ret,thresh = cv2.threshold(gray,250,255,cv2.THRESH_BINARY)\n",
    "\n",
    "\n",
    "# save the grey image\n",
    "cv2.imwrite('2.2-road_bin.png', thresh)\n",
    "\n",
    "# make the lines thicker to remove line breaks\n",
    "kernel = np.ones((2,2),np.uint8)\n",
    "dilation = cv2.dilate(thresh,kernel,iterations = 1)\n",
    "\n",
    "# display and save the grey dilated image\n",
    "# plt.imshow(dilation, cmap='gray')\n",
    "cv2.imwrite('2.3-road_dil_bin.png', dilation)\n",
    "\n",
    "# # reduce thickness of the lines\n",
    "# kernel = np.ones((3,3),np.uint8)\n",
    "# erosion = cv2.erode(dilation,kernel,iterations = 1)\n",
    "# save display the grey eroded image\n",
    "# plt.imshow(erosion, cmap='gray')\n",
    "# cv2.imwrite('road_dil_grey.png', erosion)\n",
    "#draw a dot of blue color on the center of the image with a radius of 10 pixels\n",
    "# cv2.circle(dilation, (int(dilation.shape[1]/1.5), int(dilation.shape[0]/2.7)), 2, (255,0,0), -1)"
   ]
  }
 ],
 "metadata": {
  "kernelspec": {
   "display_name": "Python 3",
   "language": "python",
   "name": "python3"
  },
  "language_info": {
   "name": "python",
   "version": "3.10.6"
  },
  "orig_nbformat": 4,
  "vscode": {
   "interpreter": {
    "hash": "31f2aee4e71d21fbe5cf8b01ff0e069b9275f58929596ceb00d14d90e3e16cd6"
   }
  }
 },
 "nbformat": 4,
 "nbformat_minor": 2
}
